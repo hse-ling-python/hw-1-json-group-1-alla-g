{
 "cells": [
  {
   "cell_type": "markdown",
   "metadata": {},
   "source": [
    "# Домашнее задание 1"
   ]
  },
  {
   "cell_type": "markdown",
   "metadata": {},
   "source": [
    "**Первый пункт** сделан, как в конспекте занятия:"
   ]
  },
  {
   "cell_type": "code",
   "execution_count": 1,
   "metadata": {},
   "outputs": [
    {
     "name": "stdout",
     "output_type": "stream",
     "text": [
      "1. В этом файле всего 2556 твитов.\n"
     ]
    }
   ],
   "source": [
    "import json\n",
    "from collections import Counter\n",
    "from pprint import pprint\n",
    "import re\n",
    "\n",
    "all_tweets = []\n",
    "for line in open('tweets.json'):\n",
    "    all_tweets.append(json.loads(line))\n",
    "print('1. В этом файле всего', len(all_tweets), 'твитов.')"
   ]
  },
  {
   "cell_type": "markdown",
   "metadata": {},
   "source": [
    "**Второй пункт:** собираю вместе все удалённые твиты (начинающиеся с *{\"delete\"*) и считаю процент пропорцией, как в школе."
   ]
  },
  {
   "cell_type": "code",
   "execution_count": 2,
   "metadata": {},
   "outputs": [
    {
     "name": "stdout",
     "output_type": "stream",
     "text": [
      "2. В этом файле 14% удалённых твитов.\n"
     ]
    }
   ],
   "source": [
    "deleted_tweets = []\n",
    "for line in open('tweets.json'):\n",
    "    if line.startswith('{\"delete\"') == True:\n",
    "        deleted_tweets.append(json.loads(line))\n",
    "result = 100*len(deleted_tweets)/len(all_tweets)\n",
    "print('2. В этом файле', str(int(result)) + '%', 'удалённых твитов.')"
   ]
  },
  {
   "cell_type": "markdown",
   "metadata": {},
   "source": [
    "**Третий пункт:** с помощью регулярки нахожу информацию о языках, потом из списка языков через Counter определяю самые популярные."
   ]
  },
  {
   "cell_type": "code",
   "execution_count": 3,
   "metadata": {
    "scrolled": true
   },
   "outputs": [
    {
     "name": "stdout",
     "output_type": "stream",
     "text": [
      "3. Вот топ-10 языков и их количество среди всех твитов: \n",
      "\n",
      "'en', 3068\n",
      "'ja', 1062\n",
      "'es', 551\n",
      "'ko', 466\n",
      "'th', 405\n",
      "'ar', 288\n",
      "'pt', 243\n",
      "'und', 193\n",
      "'fr', 119\n",
      "'in', 114\n"
     ]
    }
   ],
   "source": [
    "languages = []\n",
    "for tw in all_tweets:\n",
    "    result = re.findall(r\"lang': '(\\w+)'\", str(tw))\n",
    "    languages.extend(result)\n",
    "lang_list = Counter(languages).most_common(10)\n",
    "print('3. Вот топ-10 языков и их количество среди всех твитов:', '\\n')\n",
    "for l in lang_list:\n",
    "    print (str(l).strip(')('))\n",
    "    \n"
   ]
  },
  {
   "cell_type": "markdown",
   "metadata": {},
   "source": [
    "**Пункт четыре:** есть ли твиты от одного и того же пользователя? Если да, то сколько таких пользователей?\n",
    "\n",
    "Почему-то некорректно работает поиск по регулярке, хотя на regex.101.com всё ищется."
   ]
  },
  {
   "cell_type": "code",
   "execution_count": 4,
   "metadata": {},
   "outputs": [],
   "source": [
    "#pprint(all_tweets[0])\n",
    "users = []\n",
    "for tw in all_tweets:\n",
    "    result = re.findall(r\"'geo'.*\\s*id': (\\d+),\", str(tw))\n",
    "    users.extend(result)\n"
   ]
  },
  {
   "cell_type": "markdown",
   "metadata": {},
   "source": [
    "**Пункт пять** Топ-20 хэштегов (для них есть специальное поле)\n",
    "\n",
    "Тут тоже что-то не то с поиском"
   ]
  },
  {
   "cell_type": "code",
   "execution_count": 5,
   "metadata": {},
   "outputs": [
    {
     "name": "stdout",
     "output_type": "stream",
     "text": [
      "5. Топ-20 хештегов: \n",
      " []\n"
     ]
    }
   ],
   "source": [
    "hashtags = []\n",
    "for tw in all_tweets:\n",
    "    result = re.findall(r\"{\\\"text\\\":\\\"(.*?)\\\"\", str(tw))\n",
    "    hashtags.extend(result)\n",
    "ht_list = Counter(hashtags).most_common(20)\n",
    "print('5. Топ-20 хештегов:', '\\n', ht_list)\n"
   ]
  },
  {
   "cell_type": "markdown",
   "metadata": {},
   "source": [
    "**Пункт восемь**. Решила попытать счастья, но снова что-то не так с регуляркой, не могу понять. На regex работает."
   ]
  },
  {
   "cell_type": "code",
   "execution_count": 13,
   "metadata": {},
   "outputs": [
    {
     "name": "stdout",
     "output_type": "stream",
     "text": [
      "[]\n"
     ]
    }
   ],
   "source": [
    "#pprint(all_tweets[0])\n",
    "gadgets = []\n",
    "for tw in all_tweets:\n",
    "    result = re.findall(r\"Twitter for (\\w+)\\\\\", str(tw))\n",
    "    gadgets.extend(result)\n",
    "gadget_list = Counter(gadgets).most_common(20)\n",
    "print(gadget_list)"
   ]
  }
 ],
 "metadata": {
  "kernelspec": {
   "display_name": "Python 3",
   "language": "python",
   "name": "python3"
  },
  "language_info": {
   "codemirror_mode": {
    "name": "ipython",
    "version": 3
   },
   "file_extension": ".py",
   "mimetype": "text/x-python",
   "name": "python",
   "nbconvert_exporter": "python",
   "pygments_lexer": "ipython3",
   "version": "3.7.3"
  }
 },
 "nbformat": 4,
 "nbformat_minor": 2
}
